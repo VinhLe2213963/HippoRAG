{
 "cells": [
  {
   "cell_type": "code",
   "execution_count": 2,
   "id": "16ac5da3",
   "metadata": {},
   "outputs": [],
   "source": [
    "import json\n",
    "\n",
    "with open(\"MultiHopRAG.json\", \"r\") as f:\n",
    "    content = json.load(f)"
   ]
  },
  {
   "cell_type": "code",
   "execution_count": 5,
   "id": "4a153efb",
   "metadata": {},
   "outputs": [],
   "source": [
    "import pandas as pd\n",
    "\n",
    "df = pd.read_csv(\"multihoprag_corpus_summary.csv\")\n",
    "docs = list(df['content'])"
   ]
  },
  {
   "cell_type": "code",
   "execution_count": 21,
   "id": "3b7ee5cb",
   "metadata": {},
   "outputs": [
    {
     "data": {
      "text/plain": [
       "50"
      ]
     },
     "execution_count": 21,
     "metadata": {},
     "output_type": "execute_result"
    }
   ],
   "source": [
    "start = 0\n",
    "end = 50\n",
    "\n",
    "content = content[start:end]\n",
    "\n",
    "queries = [data['query'] for data in content]\n",
    "len(queries)"
   ]
  },
  {
   "cell_type": "code",
   "execution_count": 22,
   "id": "8b2b2368",
   "metadata": {},
   "outputs": [
    {
     "data": {
      "text/plain": [
       "50"
      ]
     },
     "execution_count": 22,
     "metadata": {},
     "output_type": "execute_result"
    }
   ],
   "source": [
    "answers = [data['answer'] for data in content]\n",
    "len(answers)"
   ]
  },
  {
   "cell_type": "code",
   "execution_count": 23,
   "id": "d63bca9e",
   "metadata": {},
   "outputs": [
    {
     "data": {
      "text/plain": [
       "50"
      ]
     },
     "execution_count": 23,
     "metadata": {},
     "output_type": "execute_result"
    }
   ],
   "source": [
    "gold_docs = []\n",
    "\n",
    "for data in content:\n",
    "    docs = []\n",
    "    for evidence in data['evidence_list']:\n",
    "        match = df.loc[df['title'] == evidence['title'], 'content']\n",
    "        if not match.empty:\n",
    "            docs.append(match.iloc[0])\n",
    "        else:\n",
    "            docs.append(None)  # or skip / handle as needed\n",
    "    gold_docs.append(docs)\n",
    "\n",
    "len(gold_docs)"
   ]
  },
  {
   "cell_type": "code",
   "execution_count": 28,
   "id": "2e1c5d69",
   "metadata": {},
   "outputs": [
    {
     "data": {
      "text/plain": [
       "'Who is the individual associated with the cryptocurrency industry facing a criminal trial on fraud and conspiracy charges, as reported by both The Verge and TechCrunch, and is accused by prosecutors of committing fraud for personal gain?'"
      ]
     },
     "execution_count": 28,
     "metadata": {},
     "output_type": "execute_result"
    }
   ],
   "source": [
    "str(queries[0])"
   ]
  },
  {
   "cell_type": "code",
   "execution_count": 27,
   "id": "deb04540",
   "metadata": {},
   "outputs": [
    {
     "data": {
      "text/plain": [
       "'Sam Bankman-Fried'"
      ]
     },
     "execution_count": 27,
     "metadata": {},
     "output_type": "execute_result"
    }
   ],
   "source": [
    "str(answers[0])"
   ]
  },
  {
   "cell_type": "code",
   "execution_count": 24,
   "id": "bc85be01",
   "metadata": {},
   "outputs": [
    {
     "data": {
      "text/plain": [
       "[\"Title:The FTX trial is bigger than Sam Bankman-Fried\\nPassage:The FTX trial of Sam Bankman-Fried, facing seven counts of criminal charges, could significantly damage the crypto industry's already tarnished reputation. Experts like Yesha Yadav predict an 'excruciating moment' as unknown evidence emerges. Accusations include Bankman-Fried's misappropriation of customer funds, lies about consumer protection and privileged access for Alameda, leading to investments and political contributions. Evidence may include testimonies from co-conspirators, venture capitalists and messages from group chats. While Bankman-Fried's defense aims to prove innocence, it may also introduce risky evidence potentially implicating the broader crypto industry by suggesting his actions were standard practice.\",\n",
       " \"Title:SBF’s trial starts soon, but how did he — and FTX — get here?\\nPassage:Sam Bankman-Fried's criminal trial has begun, focusing on seven counts of fraud and conspiracy. FTX, which he co-founded, rose to a $32 billion valuation before collapsing. Concerns about FTX's liquidity arose after a CoinDesk report highlighted Alameda Research's balance sheet, which showed a large holding of FTX's token, FTT. Binance pulling out its funds triggered a bank run, leading to FTX's bankruptcy in November 2022. Bankman-Fried was arrested and extradited to the U.S., while executives like Gary Wang and Caroline Ellison pleaded guilty and are cooperating with prosecutors. Bankman-Fried pleaded not guilty to all counts and could face up to 115 years in prison if convicted. The trial's outcome will determine the fate of investors, creditors, and billions in crypto assets.\"]"
      ]
     },
     "execution_count": 24,
     "metadata": {},
     "output_type": "execute_result"
    }
   ],
   "source": [
    "gold_docs[0]"
   ]
  }
 ],
 "metadata": {
  "kernelspec": {
   "display_name": "Python 3",
   "language": "python",
   "name": "python3"
  },
  "language_info": {
   "codemirror_mode": {
    "name": "ipython",
    "version": 3
   },
   "file_extension": ".py",
   "mimetype": "text/x-python",
   "name": "python",
   "nbconvert_exporter": "python",
   "pygments_lexer": "ipython3",
   "version": "3.12.1"
  }
 },
 "nbformat": 4,
 "nbformat_minor": 5
}
