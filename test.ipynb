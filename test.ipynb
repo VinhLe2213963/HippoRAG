{
 "cells": [
  {
   "cell_type": "code",
   "execution_count": 2,
   "id": "16ac5da3",
   "metadata": {},
   "outputs": [],
   "source": [
    "import json\n",
    "\n",
    "with open(\"MultiHopRAG.json\", \"r\") as f:\n",
    "    content = json.load(f)"
   ]
  },
  {
   "cell_type": "code",
   "execution_count": 5,
   "id": "4a153efb",
   "metadata": {},
   "outputs": [],
   "source": [
    "import pandas as pd\n",
    "\n",
    "df = pd.read_csv(\"multihoprag_corpus_summary.csv\")\n",
    "docs = list(df['content'])"
   ]
  },
  {
   "cell_type": "code",
   "execution_count": 21,
   "id": "3b7ee5cb",
   "metadata": {},
   "outputs": [
    {
     "data": {
      "text/plain": [
       "50"
      ]
     },
     "execution_count": 21,
     "metadata": {},
     "output_type": "execute_result"
    }
   ],
   "source": [
    "start = 0\n",
    "end = 50\n",
    "\n",
    "content = content[start:end]\n",
    "\n",
    "queries = [data['query'] for data in content]\n",
    "len(queries)"
   ]
  },
  {
   "cell_type": "code",
   "execution_count": 22,
   "id": "8b2b2368",
   "metadata": {},
   "outputs": [
    {
     "data": {
      "text/plain": [
       "50"
      ]
     },
     "execution_count": 22,
     "metadata": {},
     "output_type": "execute_result"
    }
   ],
   "source": [
    "answers = [data['answer'] for data in content]\n",
    "len(answers)"
   ]
  },
  {
   "cell_type": "code",
   "execution_count": 23,
   "id": "d63bca9e",
   "metadata": {},
   "outputs": [
    {
     "data": {
      "text/plain": [
       "50"
      ]
     },
     "execution_count": 23,
     "metadata": {},
     "output_type": "execute_result"
    }
   ],
   "source": [
    "gold_docs = []\n",
    "\n",
    "for data in content:\n",
    "    docs = []\n",
    "    for evidence in data['evidence_list']:\n",
    "        match = df.loc[df['title'] == evidence['title'], 'content']\n",
    "        if not match.empty:\n",
    "            docs.append(match.iloc[0])\n",
    "        else:\n",
    "            docs.append(None)  # or skip / handle as needed\n",
    "    gold_docs.append(docs)\n",
    "\n",
    "len(gold_docs)"
   ]
  },
  {
   "cell_type": "code",
   "execution_count": 15,
   "id": "bc85be01",
   "metadata": {},
   "outputs": [
    {
     "data": {
      "text/plain": [
       "['Title:OpenAI\\'s ex-chairman accuses board of going rogue in firing Altman: \\'Sam and I are shocked and saddened by what the board did\\'\\nPassage:OpenAI fired CEO Sam Altman for being \"not consistently candid\" with the board, leading chairman Greg Brockman to quit. Brockman stated Altman was informed of his firing by Ilya Sutskever after being asked to join a video meeting with the other board members. Brockman added, \"Sam and I are shocked and saddened by what the board did today,\" . OpenAI declined to elaborate on the reasons for Altman\\'s dismissal. Altman expressed his love for his time at OpenAI, while Microsoft affirmed its commitment to its partnership with the company. The board consists of OpenAI’s chief scientist, Ilya Sutskever, and three non-employees: Quora CEO Adam D’Angelo, tech entrepreneur Tasha McCauley, and Helen Toner of the Georgetown Center for Security and Emerging Technology.',\n",
       " \"Title:WTF is going on at OpenAI? We have theories\\nPassage:Sam Altman was ousted as OpenAI CEO by the board for being 'not consistently candid' in his communications. Theories abound, including a secret deal he circumvented the board on, disagreements on long-term strategy or finances (perhaps involving a secret project or personal investments), a major security/privacy incident (possibly linked to Microsoft's brief ChatGPT suspension), a clash over AI ethics and AGI pursuit, or IP/legal liabilities related to copyrighted data used in training AI models. Some even speculate about a coup by CTO Mira Murati or a 'personal matter', though the board's language suggests a professional/business reason. NDAs will likely keep the full truth hidden for some time.\"]"
      ]
     },
     "execution_count": 15,
     "metadata": {},
     "output_type": "execute_result"
    }
   ],
   "source": [
    "gold_docs[2]"
   ]
  }
 ],
 "metadata": {
  "kernelspec": {
   "display_name": "Python 3",
   "language": "python",
   "name": "python3"
  },
  "language_info": {
   "codemirror_mode": {
    "name": "ipython",
    "version": 3
   },
   "file_extension": ".py",
   "mimetype": "text/x-python",
   "name": "python",
   "nbconvert_exporter": "python",
   "pygments_lexer": "ipython3",
   "version": "3.12.1"
  }
 },
 "nbformat": 4,
 "nbformat_minor": 5
}
